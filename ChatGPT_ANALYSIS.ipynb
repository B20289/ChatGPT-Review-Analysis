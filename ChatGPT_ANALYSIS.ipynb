{
  "nbformat": 4,
  "nbformat_minor": 0,
  "metadata": {
    "colab": {
      "provenance": []
    },
    "kernelspec": {
      "name": "python3",
      "display_name": "Python 3"
    },
    "language_info": {
      "name": "python"
    }
  },
  "cells": [
    {
      "cell_type": "code",
      "source": [
        "import numpy as np\n",
        "import pandas as pd\n",
        "import matplotlib.pyplot as plt\n",
        "import seaborn as sns\n",
        "import warnings\n",
        "warnings.filterwarnings('ignore')\n",
        "from textblob import TextBlob\n",
        "import re"
      ],
      "metadata": {
        "id": "3Koe84oKYyaE"
      },
      "execution_count": 3,
      "outputs": []
    },
    {
      "cell_type": "markdown",
      "source": [
        "LOADING THE DATASET\n"
      ],
      "metadata": {
        "id": "wz6ToRnVJgQv"
      }
    },
    {
      "cell_type": "code",
      "execution_count": 4,
      "metadata": {
        "colab": {
          "base_uri": "https://localhost:8080/",
          "height": 293
        },
        "id": "AyDKhC5-T3om",
        "outputId": "f38bfbf9-e8d2-424a-a5e2-2a06013ee755"
      },
      "outputs": [
        {
          "output_type": "execute_result",
          "data": {
            "text/plain": [
              "                              Review Id  \\\n",
              "0  6fb93778-651a-4ad1-b5ed-67dd0bd35aac   \n",
              "1  81caeefd-3a28-4601-a898-72897ac906f5   \n",
              "2  452af49e-1d8b-4b68-b1ac-a94c64cb1dd5   \n",
              "3  372a4096-ee6a-4b94-b046-cef0b646c965   \n",
              "4  b0d66a4b-9bde-4b7c-8b11-66ed6ccdd7da   \n",
              "\n",
              "                                              Review  Ratings  \\\n",
              "0                                               good        5   \n",
              "1                                               good        5   \n",
              "2                                           nice app        5   \n",
              "3                                           nice, ig        5   \n",
              "4  this is a great app, the bot is so accurate to...        5   \n",
              "\n",
              "           Review Date  \n",
              "0  2024-08-23 19:30:05  \n",
              "1  2024-08-23 19:28:18  \n",
              "2  2024-08-23 19:22:59  \n",
              "3  2024-08-23 19:20:50  \n",
              "4  2024-08-23 19:20:39  "
            ],
            "text/html": [
              "\n",
              "  <div id=\"df-9bb5f983-b2b5-4950-9152-a172feb1a346\" class=\"colab-df-container\">\n",
              "    <div>\n",
              "<style scoped>\n",
              "    .dataframe tbody tr th:only-of-type {\n",
              "        vertical-align: middle;\n",
              "    }\n",
              "\n",
              "    .dataframe tbody tr th {\n",
              "        vertical-align: top;\n",
              "    }\n",
              "\n",
              "    .dataframe thead th {\n",
              "        text-align: right;\n",
              "    }\n",
              "</style>\n",
              "<table border=\"1\" class=\"dataframe\">\n",
              "  <thead>\n",
              "    <tr style=\"text-align: right;\">\n",
              "      <th></th>\n",
              "      <th>Review Id</th>\n",
              "      <th>Review</th>\n",
              "      <th>Ratings</th>\n",
              "      <th>Review Date</th>\n",
              "    </tr>\n",
              "  </thead>\n",
              "  <tbody>\n",
              "    <tr>\n",
              "      <th>0</th>\n",
              "      <td>6fb93778-651a-4ad1-b5ed-67dd0bd35aac</td>\n",
              "      <td>good</td>\n",
              "      <td>5</td>\n",
              "      <td>2024-08-23 19:30:05</td>\n",
              "    </tr>\n",
              "    <tr>\n",
              "      <th>1</th>\n",
              "      <td>81caeefd-3a28-4601-a898-72897ac906f5</td>\n",
              "      <td>good</td>\n",
              "      <td>5</td>\n",
              "      <td>2024-08-23 19:28:18</td>\n",
              "    </tr>\n",
              "    <tr>\n",
              "      <th>2</th>\n",
              "      <td>452af49e-1d8b-4b68-b1ac-a94c64cb1dd5</td>\n",
              "      <td>nice app</td>\n",
              "      <td>5</td>\n",
              "      <td>2024-08-23 19:22:59</td>\n",
              "    </tr>\n",
              "    <tr>\n",
              "      <th>3</th>\n",
              "      <td>372a4096-ee6a-4b94-b046-cef0b646c965</td>\n",
              "      <td>nice, ig</td>\n",
              "      <td>5</td>\n",
              "      <td>2024-08-23 19:20:50</td>\n",
              "    </tr>\n",
              "    <tr>\n",
              "      <th>4</th>\n",
              "      <td>b0d66a4b-9bde-4b7c-8b11-66ed6ccdd7da</td>\n",
              "      <td>this is a great app, the bot is so accurate to...</td>\n",
              "      <td>5</td>\n",
              "      <td>2024-08-23 19:20:39</td>\n",
              "    </tr>\n",
              "  </tbody>\n",
              "</table>\n",
              "</div>\n",
              "    <div class=\"colab-df-buttons\">\n",
              "\n",
              "  <div class=\"colab-df-container\">\n",
              "    <button class=\"colab-df-convert\" onclick=\"convertToInteractive('df-9bb5f983-b2b5-4950-9152-a172feb1a346')\"\n",
              "            title=\"Convert this dataframe to an interactive table.\"\n",
              "            style=\"display:none;\">\n",
              "\n",
              "  <svg xmlns=\"http://www.w3.org/2000/svg\" height=\"24px\" viewBox=\"0 -960 960 960\">\n",
              "    <path d=\"M120-120v-720h720v720H120Zm60-500h600v-160H180v160Zm220 220h160v-160H400v160Zm0 220h160v-160H400v160ZM180-400h160v-160H180v160Zm440 0h160v-160H620v160ZM180-180h160v-160H180v160Zm440 0h160v-160H620v160Z\"/>\n",
              "  </svg>\n",
              "    </button>\n",
              "\n",
              "  <style>\n",
              "    .colab-df-container {\n",
              "      display:flex;\n",
              "      gap: 12px;\n",
              "    }\n",
              "\n",
              "    .colab-df-convert {\n",
              "      background-color: #E8F0FE;\n",
              "      border: none;\n",
              "      border-radius: 50%;\n",
              "      cursor: pointer;\n",
              "      display: none;\n",
              "      fill: #1967D2;\n",
              "      height: 32px;\n",
              "      padding: 0 0 0 0;\n",
              "      width: 32px;\n",
              "    }\n",
              "\n",
              "    .colab-df-convert:hover {\n",
              "      background-color: #E2EBFA;\n",
              "      box-shadow: 0px 1px 2px rgba(60, 64, 67, 0.3), 0px 1px 3px 1px rgba(60, 64, 67, 0.15);\n",
              "      fill: #174EA6;\n",
              "    }\n",
              "\n",
              "    .colab-df-buttons div {\n",
              "      margin-bottom: 4px;\n",
              "    }\n",
              "\n",
              "    [theme=dark] .colab-df-convert {\n",
              "      background-color: #3B4455;\n",
              "      fill: #D2E3FC;\n",
              "    }\n",
              "\n",
              "    [theme=dark] .colab-df-convert:hover {\n",
              "      background-color: #434B5C;\n",
              "      box-shadow: 0px 1px 3px 1px rgba(0, 0, 0, 0.15);\n",
              "      filter: drop-shadow(0px 1px 2px rgba(0, 0, 0, 0.3));\n",
              "      fill: #FFFFFF;\n",
              "    }\n",
              "  </style>\n",
              "\n",
              "    <script>\n",
              "      const buttonEl =\n",
              "        document.querySelector('#df-9bb5f983-b2b5-4950-9152-a172feb1a346 button.colab-df-convert');\n",
              "      buttonEl.style.display =\n",
              "        google.colab.kernel.accessAllowed ? 'block' : 'none';\n",
              "\n",
              "      async function convertToInteractive(key) {\n",
              "        const element = document.querySelector('#df-9bb5f983-b2b5-4950-9152-a172feb1a346');\n",
              "        const dataTable =\n",
              "          await google.colab.kernel.invokeFunction('convertToInteractive',\n",
              "                                                    [key], {});\n",
              "        if (!dataTable) return;\n",
              "\n",
              "        const docLinkHtml = 'Like what you see? Visit the ' +\n",
              "          '<a target=\"_blank\" href=https://colab.research.google.com/notebooks/data_table.ipynb>data table notebook</a>'\n",
              "          + ' to learn more about interactive tables.';\n",
              "        element.innerHTML = '';\n",
              "        dataTable['output_type'] = 'display_data';\n",
              "        await google.colab.output.renderOutput(dataTable, element);\n",
              "        const docLink = document.createElement('div');\n",
              "        docLink.innerHTML = docLinkHtml;\n",
              "        element.appendChild(docLink);\n",
              "      }\n",
              "    </script>\n",
              "  </div>\n",
              "\n",
              "\n",
              "    <div id=\"df-2285d620-3744-43df-8992-11a87c71fd55\">\n",
              "      <button class=\"colab-df-quickchart\" onclick=\"quickchart('df-2285d620-3744-43df-8992-11a87c71fd55')\"\n",
              "                title=\"Suggest charts\"\n",
              "                style=\"display:none;\">\n",
              "\n",
              "<svg xmlns=\"http://www.w3.org/2000/svg\" height=\"24px\"viewBox=\"0 0 24 24\"\n",
              "     width=\"24px\">\n",
              "    <g>\n",
              "        <path d=\"M19 3H5c-1.1 0-2 .9-2 2v14c0 1.1.9 2 2 2h14c1.1 0 2-.9 2-2V5c0-1.1-.9-2-2-2zM9 17H7v-7h2v7zm4 0h-2V7h2v10zm4 0h-2v-4h2v4z\"/>\n",
              "    </g>\n",
              "</svg>\n",
              "      </button>\n",
              "\n",
              "<style>\n",
              "  .colab-df-quickchart {\n",
              "      --bg-color: #E8F0FE;\n",
              "      --fill-color: #1967D2;\n",
              "      --hover-bg-color: #E2EBFA;\n",
              "      --hover-fill-color: #174EA6;\n",
              "      --disabled-fill-color: #AAA;\n",
              "      --disabled-bg-color: #DDD;\n",
              "  }\n",
              "\n",
              "  [theme=dark] .colab-df-quickchart {\n",
              "      --bg-color: #3B4455;\n",
              "      --fill-color: #D2E3FC;\n",
              "      --hover-bg-color: #434B5C;\n",
              "      --hover-fill-color: #FFFFFF;\n",
              "      --disabled-bg-color: #3B4455;\n",
              "      --disabled-fill-color: #666;\n",
              "  }\n",
              "\n",
              "  .colab-df-quickchart {\n",
              "    background-color: var(--bg-color);\n",
              "    border: none;\n",
              "    border-radius: 50%;\n",
              "    cursor: pointer;\n",
              "    display: none;\n",
              "    fill: var(--fill-color);\n",
              "    height: 32px;\n",
              "    padding: 0;\n",
              "    width: 32px;\n",
              "  }\n",
              "\n",
              "  .colab-df-quickchart:hover {\n",
              "    background-color: var(--hover-bg-color);\n",
              "    box-shadow: 0 1px 2px rgba(60, 64, 67, 0.3), 0 1px 3px 1px rgba(60, 64, 67, 0.15);\n",
              "    fill: var(--button-hover-fill-color);\n",
              "  }\n",
              "\n",
              "  .colab-df-quickchart-complete:disabled,\n",
              "  .colab-df-quickchart-complete:disabled:hover {\n",
              "    background-color: var(--disabled-bg-color);\n",
              "    fill: var(--disabled-fill-color);\n",
              "    box-shadow: none;\n",
              "  }\n",
              "\n",
              "  .colab-df-spinner {\n",
              "    border: 2px solid var(--fill-color);\n",
              "    border-color: transparent;\n",
              "    border-bottom-color: var(--fill-color);\n",
              "    animation:\n",
              "      spin 1s steps(1) infinite;\n",
              "  }\n",
              "\n",
              "  @keyframes spin {\n",
              "    0% {\n",
              "      border-color: transparent;\n",
              "      border-bottom-color: var(--fill-color);\n",
              "      border-left-color: var(--fill-color);\n",
              "    }\n",
              "    20% {\n",
              "      border-color: transparent;\n",
              "      border-left-color: var(--fill-color);\n",
              "      border-top-color: var(--fill-color);\n",
              "    }\n",
              "    30% {\n",
              "      border-color: transparent;\n",
              "      border-left-color: var(--fill-color);\n",
              "      border-top-color: var(--fill-color);\n",
              "      border-right-color: var(--fill-color);\n",
              "    }\n",
              "    40% {\n",
              "      border-color: transparent;\n",
              "      border-right-color: var(--fill-color);\n",
              "      border-top-color: var(--fill-color);\n",
              "    }\n",
              "    60% {\n",
              "      border-color: transparent;\n",
              "      border-right-color: var(--fill-color);\n",
              "    }\n",
              "    80% {\n",
              "      border-color: transparent;\n",
              "      border-right-color: var(--fill-color);\n",
              "      border-bottom-color: var(--fill-color);\n",
              "    }\n",
              "    90% {\n",
              "      border-color: transparent;\n",
              "      border-bottom-color: var(--fill-color);\n",
              "    }\n",
              "  }\n",
              "</style>\n",
              "\n",
              "      <script>\n",
              "        async function quickchart(key) {\n",
              "          const quickchartButtonEl =\n",
              "            document.querySelector('#' + key + ' button');\n",
              "          quickchartButtonEl.disabled = true;  // To prevent multiple clicks.\n",
              "          quickchartButtonEl.classList.add('colab-df-spinner');\n",
              "          try {\n",
              "            const charts = await google.colab.kernel.invokeFunction(\n",
              "                'suggestCharts', [key], {});\n",
              "          } catch (error) {\n",
              "            console.error('Error during call to suggestCharts:', error);\n",
              "          }\n",
              "          quickchartButtonEl.classList.remove('colab-df-spinner');\n",
              "          quickchartButtonEl.classList.add('colab-df-quickchart-complete');\n",
              "        }\n",
              "        (() => {\n",
              "          let quickchartButtonEl =\n",
              "            document.querySelector('#df-2285d620-3744-43df-8992-11a87c71fd55 button');\n",
              "          quickchartButtonEl.style.display =\n",
              "            google.colab.kernel.accessAllowed ? 'block' : 'none';\n",
              "        })();\n",
              "      </script>\n",
              "    </div>\n",
              "\n",
              "    </div>\n",
              "  </div>\n"
            ],
            "application/vnd.google.colaboratory.intrinsic+json": {
              "type": "dataframe",
              "variable_name": "df"
            }
          },
          "metadata": {},
          "execution_count": 4
        }
      ],
      "source": [
        "df=pd.read_csv('/content/chatgpt_reviews.csv')\n",
        "df.head()"
      ]
    },
    {
      "cell_type": "markdown",
      "source": [
        "STANDARDIZING THE COLUMNS NAME"
      ],
      "metadata": {
        "id": "n-_21WvbKm42"
      }
    },
    {
      "cell_type": "code",
      "source": [
        "df.columns = df.columns.str.lower().str.replace(' ', '_')\n",
        "print(df.columns)"
      ],
      "metadata": {
        "id": "3Ionv4hqJkkE",
        "colab": {
          "base_uri": "https://localhost:8080/"
        },
        "outputId": "3b8449d2-2738-49aa-df8a-ca69f7431c4e"
      },
      "execution_count": 5,
      "outputs": [
        {
          "output_type": "stream",
          "name": "stdout",
          "text": [
            "Index(['review_id', 'review', 'ratings', 'review_date'], dtype='object')\n"
          ]
        }
      ]
    },
    {
      "cell_type": "markdown",
      "source": [
        "**CLEANING THE DATASET**"
      ],
      "metadata": {
        "id": "4p4jU1W9K-qF"
      }
    },
    {
      "cell_type": "code",
      "source": [
        "df.isnull().sum()"
      ],
      "metadata": {
        "id": "beSEmj1gK-Kn",
        "colab": {
          "base_uri": "https://localhost:8080/",
          "height": 210
        },
        "outputId": "844661aa-74f3-4bb1-a927-4d9b6a31ba6e"
      },
      "execution_count": 6,
      "outputs": [
        {
          "output_type": "execute_result",
          "data": {
            "text/plain": [
              "review_id      0\n",
              "review         6\n",
              "ratings        0\n",
              "review_date    0\n",
              "dtype: int64"
            ],
            "text/html": [
              "<div>\n",
              "<style scoped>\n",
              "    .dataframe tbody tr th:only-of-type {\n",
              "        vertical-align: middle;\n",
              "    }\n",
              "\n",
              "    .dataframe tbody tr th {\n",
              "        vertical-align: top;\n",
              "    }\n",
              "\n",
              "    .dataframe thead th {\n",
              "        text-align: right;\n",
              "    }\n",
              "</style>\n",
              "<table border=\"1\" class=\"dataframe\">\n",
              "  <thead>\n",
              "    <tr style=\"text-align: right;\">\n",
              "      <th></th>\n",
              "      <th>0</th>\n",
              "    </tr>\n",
              "  </thead>\n",
              "  <tbody>\n",
              "    <tr>\n",
              "      <th>review_id</th>\n",
              "      <td>0</td>\n",
              "    </tr>\n",
              "    <tr>\n",
              "      <th>review</th>\n",
              "      <td>6</td>\n",
              "    </tr>\n",
              "    <tr>\n",
              "      <th>ratings</th>\n",
              "      <td>0</td>\n",
              "    </tr>\n",
              "    <tr>\n",
              "      <th>review_date</th>\n",
              "      <td>0</td>\n",
              "    </tr>\n",
              "  </tbody>\n",
              "</table>\n",
              "</div><br><label><b>dtype:</b> int64</label>"
            ]
          },
          "metadata": {},
          "execution_count": 6
        }
      ]
    },
    {
      "cell_type": "code",
      "source": [
        "df['review'] = df['review'].fillna('')"
      ],
      "metadata": {
        "id": "j7L-xIDrK5en"
      },
      "execution_count": 7,
      "outputs": []
    },
    {
      "cell_type": "markdown",
      "source": [
        "**SENTIMENT POLARITY ANALYSIS**"
      ],
      "metadata": {
        "id": "yMcUiFxcMO_W"
      }
    },
    {
      "cell_type": "code",
      "source": [
        "def func_sentiment_polarity(text):\n",
        "  if pd.isna(text) or text == '':\n",
        "        return 0\n",
        "\n",
        "  blob = TextBlob(str(text))\n",
        "  return blob.sentiment.polarity\n",
        "\n",
        "df['sentiment_polarity'] = df['review'].apply(func_sentiment_polarity)"
      ],
      "metadata": {
        "id": "5zqk7E48LmAn"
      },
      "execution_count": 8,
      "outputs": []
    },
    {
      "cell_type": "code",
      "source": [
        "df['sentiment_polarity']"
      ],
      "metadata": {
        "id": "G9dmCsgXdLli",
        "colab": {
          "base_uri": "https://localhost:8080/",
          "height": 458
        },
        "outputId": "79890aed-1743-44de-cfbd-f20c656b3bab"
      },
      "execution_count": 9,
      "outputs": [
        {
          "output_type": "execute_result",
          "data": {
            "text/plain": [
              "0         0.7000\n",
              "1         0.7000\n",
              "2         0.6000\n",
              "3         0.6000\n",
              "4         0.4125\n",
              "           ...  \n",
              "188639    0.5000\n",
              "188640    0.7000\n",
              "188641    1.0000\n",
              "188642    1.0000\n",
              "188643    0.6000\n",
              "Name: sentiment_polarity, Length: 188644, dtype: float64"
            ],
            "text/html": [
              "<div>\n",
              "<style scoped>\n",
              "    .dataframe tbody tr th:only-of-type {\n",
              "        vertical-align: middle;\n",
              "    }\n",
              "\n",
              "    .dataframe tbody tr th {\n",
              "        vertical-align: top;\n",
              "    }\n",
              "\n",
              "    .dataframe thead th {\n",
              "        text-align: right;\n",
              "    }\n",
              "</style>\n",
              "<table border=\"1\" class=\"dataframe\">\n",
              "  <thead>\n",
              "    <tr style=\"text-align: right;\">\n",
              "      <th></th>\n",
              "      <th>sentiment_polarity</th>\n",
              "    </tr>\n",
              "  </thead>\n",
              "  <tbody>\n",
              "    <tr>\n",
              "      <th>0</th>\n",
              "      <td>0.7000</td>\n",
              "    </tr>\n",
              "    <tr>\n",
              "      <th>1</th>\n",
              "      <td>0.7000</td>\n",
              "    </tr>\n",
              "    <tr>\n",
              "      <th>2</th>\n",
              "      <td>0.6000</td>\n",
              "    </tr>\n",
              "    <tr>\n",
              "      <th>3</th>\n",
              "      <td>0.6000</td>\n",
              "    </tr>\n",
              "    <tr>\n",
              "      <th>4</th>\n",
              "      <td>0.4125</td>\n",
              "    </tr>\n",
              "    <tr>\n",
              "      <th>...</th>\n",
              "      <td>...</td>\n",
              "    </tr>\n",
              "    <tr>\n",
              "      <th>188639</th>\n",
              "      <td>0.5000</td>\n",
              "    </tr>\n",
              "    <tr>\n",
              "      <th>188640</th>\n",
              "      <td>0.7000</td>\n",
              "    </tr>\n",
              "    <tr>\n",
              "      <th>188641</th>\n",
              "      <td>1.0000</td>\n",
              "    </tr>\n",
              "    <tr>\n",
              "      <th>188642</th>\n",
              "      <td>1.0000</td>\n",
              "    </tr>\n",
              "    <tr>\n",
              "      <th>188643</th>\n",
              "      <td>0.6000</td>\n",
              "    </tr>\n",
              "  </tbody>\n",
              "</table>\n",
              "<p>188644 rows × 1 columns</p>\n",
              "</div><br><label><b>dtype:</b> float64</label>"
            ]
          },
          "metadata": {},
          "execution_count": 9
        }
      ]
    },
    {
      "cell_type": "code",
      "source": [
        "def sentiment_category(polarity):\n",
        "  if polarity > 0.1:\n",
        "    return 'Positive'\n",
        "  elif polarity < -0.1:\n",
        "    return 'Negative'\n",
        "  else:\n",
        "    return 'Neutral'\n",
        "\n",
        "df['sentiment_category'] = df['sentiment_polarity'].apply(sentiment_category)"
      ],
      "metadata": {
        "id": "YSAV2y3kOoS4"
      },
      "execution_count": 10,
      "outputs": []
    },
    {
      "cell_type": "code",
      "source": [
        "sentiment_counts = df['sentiment_category'].value_counts()\n",
        "plt.bar(sentiment_counts.index, sentiment_counts.values)\n",
        "plt.xlabel('Sentiment Category')\n",
        "plt.ylabel('Count')\n",
        "plt.title('Sentiment Category Distribution')\n",
        "plt.show()"
      ],
      "metadata": {
        "id": "R7jbts9lPajQ",
        "colab": {
          "base_uri": "https://localhost:8080/",
          "height": 472
        },
        "outputId": "9611da5a-9bd6-4ce7-fc78-0a687b43505c"
      },
      "execution_count": 11,
      "outputs": [
        {
          "output_type": "display_data",
          "data": {
            "text/plain": [
              "<Figure size 640x480 with 1 Axes>"
            ],
            "image/png": "[encoded data removed]"
          },
          "metadata": {}
        }
      ]
    },
    {
      "cell_type": "markdown",
      "source": [
        "**SENTIMENT SUBJECTIVITY ANALYSIS**"
      ],
      "metadata": {
        "id": "_h9IsCgXX3ub"
      }
    },
    {
      "cell_type": "code",
      "source": [
        "def func_sentiment_subjectivity(text):\n",
        "  if pd.isna(text) or text == '':\n",
        "        return 0\n",
        "\n",
        "  blob = TextBlob(str(text))\n",
        "  return blob.sentiment.subjectivity\n",
        "\n",
        "df['sentiment_subj'] = df['review'].apply(func_sentiment_subjectivity)"
      ],
      "metadata": {
        "id": "uX4Xf95sgZlE"
      },
      "execution_count": 12,
      "outputs": []
    },
    {
      "cell_type": "code",
      "source": [
        "df['sentiment_subj']"
      ],
      "metadata": {
        "id": "2JdA4Skpgsgb",
        "colab": {
          "base_uri": "https://localhost:8080/",
          "height": 458
        },
        "outputId": "9c08e929-8c45-47e2-85c8-a3cb556e6814"
      },
      "execution_count": 13,
      "outputs": [
        {
          "output_type": "execute_result",
          "data": {
            "text/plain": [
              "0         0.600000\n",
              "1         0.600000\n",
              "2         1.000000\n",
              "3         1.000000\n",
              "4         0.542949\n",
              "            ...   \n",
              "188639    0.600000\n",
              "188640    0.600000\n",
              "188641    1.000000\n",
              "188642    1.000000\n",
              "188643    0.900000\n",
              "Name: sentiment_subj, Length: 188644, dtype: float64"
            ],
            "text/html": [
              "<div>\n",
              "<style scoped>\n",
              "    .dataframe tbody tr th:only-of-type {\n",
              "        vertical-align: middle;\n",
              "    }\n",
              "\n",
              "    .dataframe tbody tr th {\n",
              "        vertical-align: top;\n",
              "    }\n",
              "\n",
              "    .dataframe thead th {\n",
              "        text-align: right;\n",
              "    }\n",
              "</style>\n",
              "<table border=\"1\" class=\"dataframe\">\n",
              "  <thead>\n",
              "    <tr style=\"text-align: right;\">\n",
              "      <th></th>\n",
              "      <th>sentiment_subj</th>\n",
              "    </tr>\n",
              "  </thead>\n",
              "  <tbody>\n",
              "    <tr>\n",
              "      <th>0</th>\n",
              "      <td>0.600000</td>\n",
              "    </tr>\n",
              "    <tr>\n",
              "      <th>1</th>\n",
              "      <td>0.600000</td>\n",
              "    </tr>\n",
              "    <tr>\n",
              "      <th>2</th>\n",
              "      <td>1.000000</td>\n",
              "    </tr>\n",
              "    <tr>\n",
              "      <th>3</th>\n",
              "      <td>1.000000</td>\n",
              "    </tr>\n",
              "    <tr>\n",
              "      <th>4</th>\n",
              "      <td>0.542949</td>\n",
              "    </tr>\n",
              "    <tr>\n",
              "      <th>...</th>\n",
              "      <td>...</td>\n",
              "    </tr>\n",
              "    <tr>\n",
              "      <th>188639</th>\n",
              "      <td>0.600000</td>\n",
              "    </tr>\n",
              "    <tr>\n",
              "      <th>188640</th>\n",
              "      <td>0.600000</td>\n",
              "    </tr>\n",
              "    <tr>\n",
              "      <th>188641</th>\n",
              "      <td>1.000000</td>\n",
              "    </tr>\n",
              "    <tr>\n",
              "      <th>188642</th>\n",
              "      <td>1.000000</td>\n",
              "    </tr>\n",
              "    <tr>\n",
              "      <th>188643</th>\n",
              "      <td>0.900000</td>\n",
              "    </tr>\n",
              "  </tbody>\n",
              "</table>\n",
              "<p>188644 rows × 1 columns</p>\n",
              "</div><br><label><b>dtype:</b> float64</label>"
            ]
          },
          "metadata": {},
          "execution_count": 13
        }
      ]
    },
    {
      "cell_type": "code",
      "source": [
        "plt.hist(df['sentiment_subj'], bins=10, edgecolor = 'black')\n",
        "plt.xlabel('Sentiment Subjectivity')\n",
        "plt.ylabel('Frequency')\n",
        "plt.title('Sentiment Subjectivity Distribution')\n",
        "plt.show()"
      ],
      "metadata": {
        "id": "vQjSh_2ehELB",
        "colab": {
          "base_uri": "https://localhost:8080/",
          "height": 472
        },
        "outputId": "791d6d3b-6760-4540-b939-cb6d17cb5bbe"
      },
      "execution_count": 14,
      "outputs": [
        {
          "output_type": "display_data",
          "data": {
            "text/plain": [
              "<Figure size 640x480 with 1 Axes>"
            ],
            "image/png": "[encoded data removed]"
          },
          "metadata": {}
        }
      ]
    },
    {
      "cell_type": "markdown",
      "source": [
        "MOST COMMON POSITIVE PHASES"
      ],
      "metadata": {
        "id": "MfY7Z2FvmBVT"
      }
    },
    {
      "cell_type": "code",
      "source": [
        "positive_reviews = df[df['sentiment_category']=='Positive']['review']"
      ],
      "metadata": {
        "id": "4-lvGLsQmOYz"
      },
      "execution_count": 15,
      "outputs": []
    },
    {
      "cell_type": "code",
      "source": [
        "all_pos_text = ' '.join(positive_reviews).lower()"
      ],
      "metadata": {
        "id": "06Ja3HLumnRt"
      },
      "execution_count": 16,
      "outputs": []
    },
    {
      "cell_type": "code",
      "source": [
        "#Cleaned text\n",
        "\n",
        "cleaned_text = re.sub(r'[^a-zA-Z\\s]','', all_pos_text)"
      ],
      "metadata": {
        "id": "LrEPcg1Cm76V"
      },
      "execution_count": 17,
      "outputs": []
    },
    {
      "cell_type": "code",
      "source": [
        "#Words in cleaned text, which haS length > 2\n",
        "\n",
        "words = cleaned_text.split()\n",
        "words_list = [word for word in words if len(word)>2]"
      ],
      "metadata": {
        "id": "eI1i1qzNnxIc"
      },
      "execution_count": 18,
      "outputs": []
    },
    {
      "cell_type": "code",
      "source": [
        "#Now making phrases\n",
        "\n",
        "phrases = []\n",
        "for i in range(len(words_list)-1):\n",
        "  phrase = words_list[i] + ' ' + words_list[i+1]\n",
        "  phrases.append(phrase)\n",
        "\n",
        "for i in range(len(words_list)-2):\n",
        "  phrase = words_list[i] + ' ' + words_list[i+1] + ' ' + words_list[i+2]\n",
        "  phrases.append(phrase)"
      ],
      "metadata": {
        "id": "eWtQqMHlonAH"
      },
      "execution_count": 19,
      "outputs": []
    },
    {
      "cell_type": "code",
      "source": [
        "#Checking most common phrase\n",
        "\n",
        "mostcommon_phrases = pd.Series(phrases).value_counts().head(10)"
      ],
      "metadata": {
        "id": "IaEv-VxUpMGX"
      },
      "execution_count": 20,
      "outputs": []
    },
    {
      "cell_type": "code",
      "source": [
        "plt.barh(mostcommon_phrases.index, mostcommon_phrases.values)\n",
        "plt.ylabel('Most Common Positive Phrases')\n",
        "plt.xlabel('Count')\n",
        "plt.title('Most Common Positive Phrases')\n",
        "plt.show()"
      ],
      "metadata": {
        "id": "QqOM2iVHmx2o",
        "colab": {
          "base_uri": "https://localhost:8080/",
          "height": 472
        },
        "outputId": "b9271011-231e-4766-f8d5-667991255182"
      },
      "execution_count": 21,
      "outputs": [
        {
          "output_type": "display_data",
          "data": {
            "text/plain": [
              "<Figure size 640x480 with 1 Axes>"
            ],
            "image/png": "[encoded data removed]"
          },
          "metadata": {}
        }
      ]
    },
    {
      "cell_type": "markdown",
      "source": [
        "MOST COMMON NEGATIVE PHRASE"
      ],
      "metadata": {
        "id": "dQ0SoCZ0qaPt"
      }
    },
    {
      "cell_type": "code",
      "source": [
        "negative_review = df[df['sentiment_category']=='Negative']['review']"
      ],
      "metadata": {
        "id": "-eYfzMTAqZvS"
      },
      "execution_count": 22,
      "outputs": []
    },
    {
      "cell_type": "code",
      "source": [
        "all_neg = ' '.join(negative_review).lower()"
      ],
      "metadata": {
        "id": "JLYPKTWuqpZu"
      },
      "execution_count": 23,
      "outputs": []
    },
    {
      "cell_type": "code",
      "source": [
        "nwords = all_neg.split()"
      ],
      "metadata": {
        "id": "xLgAS-Yuqt4E"
      },
      "execution_count": 24,
      "outputs": []
    },
    {
      "cell_type": "code",
      "source": [
        "nword_list = [word for word in nwords if len(word)>2]"
      ],
      "metadata": {
        "id": "3BVbFTf1qyzr"
      },
      "execution_count": 25,
      "outputs": []
    },
    {
      "cell_type": "code",
      "source": [
        "nphrase = []\n",
        "\n",
        "for i in range(len(nword_list) - 1):\n",
        "  p = nword_list[i] + ' '+ nword_list[i+1]\n",
        "  nphrase.append(p)\n",
        "\n",
        "for i in range(len(nword_list) -2):\n",
        "  p = nword_list[i] + ' ' + nword_list[i+1] + ' ' + nword_list[i+2]\n",
        "  nphrase.append(p)\n"
      ],
      "metadata": {
        "id": "FhXZDSlKrFeB"
      },
      "execution_count": 26,
      "outputs": []
    },
    {
      "cell_type": "code",
      "source": [
        "most_common_negphrase = pd.Series(nphrase).value_counts().head(10)"
      ],
      "metadata": {
        "id": "sX3VjwMqrzUu"
      },
      "execution_count": 27,
      "outputs": []
    },
    {
      "cell_type": "code",
      "source": [
        "plt.barh(most_common_negphrase.index, most_common_negphrase.values)\n",
        "plt.ylabel('Most Common Negative Phrases')\n",
        "plt.xlabel('Count')\n",
        "plt.title('Most Common Negative Phrases')\n",
        "plt.show()"
      ],
      "metadata": {
        "id": "3vyx43W6ss3m",
        "colab": {
          "base_uri": "https://localhost:8080/",
          "height": 472
        },
        "outputId": "04b1a0da-cba7-41bb-fc35-df2c9011ad02"
      },
      "execution_count": 28,
      "outputs": [
        {
          "output_type": "display_data",
          "data": {
            "text/plain": [
              "<Figure size 640x480 with 1 Axes>"
            ],
            "image/png": "[encoded data removed]"
          },
          "metadata": {}
        }
      ]
    },
    {
      "cell_type": "markdown",
      "source": [
        "CATEGORISATION OF NEUTRAL TEXT\n",
        "\n",
        "\n",
        "\n"
      ],
      "metadata": {
        "id": "jNOwzpZStPR8"
      }
    },
    {
      "cell_type": "code",
      "source": [
        "neutral_reviews = df[df['sentiment_category'] == 'Neutral']['review']"
      ],
      "metadata": {
        "id": "Yn4st01btWgF"
      },
      "execution_count": 29,
      "outputs": []
    },
    {
      "cell_type": "code",
      "source": [
        "neutral_map = {\n",
        "    'Requests': ['add', 'remove', 'include', 'feature', 'wish', 'hope', 'exclude'],\n",
        "    'Question': ['how', 'why', 'what', 'when', 'where', 'can', 'does', 'do'],\n",
        "    'Pos-leaning': ['good', 'nice', 'ok', 'fine', 'decent', 'works'],\n",
        "    'Neg-leaning': ['but', 'however', 'issue', 'problem', 'concern', 'could be better']\n",
        "}\n",
        "\n",
        "\n",
        "neu_category = []\n",
        "\n",
        "for text in neutral_reviews:\n",
        "  lower_text = str(text).lower()\n",
        "  for category, keywords in neutral_map.items():\n",
        "    for keyword in keywords:\n",
        "      if keyword in lower_text:\n",
        "        neu_category.append(category)\n",
        "\n",
        "  else:\n",
        "    neu_category.append('Truly Neutral')"
      ],
      "metadata": {
        "id": "kiGRCsCxPdpY"
      },
      "execution_count": 32,
      "outputs": []
    },
    {
      "cell_type": "code",
      "source": [
        "from typing import Counter\n",
        "# Counting each categoruies\n",
        "\n",
        "count_category = Counter(neu_category)\n",
        "count_category"
      ],
      "metadata": {
        "colab": {
          "base_uri": "https://localhost:8080/"
        },
        "id": "6I7YfxtrkguF",
        "outputId": "4cbcdaa3-5124-4b54-88e5-2a69bdf1c648"
      },
      "execution_count": 34,
      "outputs": [
        {
          "output_type": "execute_result",
          "data": {
            "text/plain": [
              "Counter({'Truly Neutral': 42357,\n",
              "         'Question': 12174,\n",
              "         'Requests': 1406,\n",
              "         'Pos-leaning': 2445,\n",
              "         'Neg-leaning': 3757})"
            ]
          },
          "metadata": {},
          "execution_count": 34
        }
      ]
    },
    {
      "cell_type": "code",
      "source": [
        "plt.bar(count_category.keys(), count_category.values())\n",
        "plt.xlabel('Category')\n",
        "plt.ylabel('Count')\n",
        "plt.title('Category Distribution')\n",
        "plt.show()"
      ],
      "metadata": {
        "colab": {
          "base_uri": "https://localhost:8080/",
          "height": 472
        },
        "id": "_Ux18aFOlDUV",
        "outputId": "9671f9a7-2d3c-4db4-aa73-4d4757572177"
      },
      "execution_count": 43,
      "outputs": [
        {
          "output_type": "display_data",
          "data": {
            "text/plain": [
              "<Figure size 640x480 with 1 Axes>"
            ],
            "image/png": "[encoded data removed]"
          },
          "metadata": {}
        }
      ]
    },
    {
      "cell_type": "markdown",
      "source": [
        "CATEGORISATION OF NEGATIVE TEXT\n"
      ],
      "metadata": {
        "id": "gZF3pxiNlxlL"
      }
    },
    {
      "cell_type": "code",
      "source": [
        "negative_map = {\n",
        "    'Performance': ['slow', 'lag', 'crash', 'freeze', 'glitch', 'bug', 'error'],\n",
        "    'Features': ['missing', 'lack', 'need', 'want', 'should', 'feature'],\n",
        "    'User Experience': ['confusing', 'difficult', 'hard', 'complicated', 'interface'],\n",
        "    'Accuracy': ['wrong', 'incorrect', 'bad', 'poor', 'inaccurate', 'mistake'],\n",
        "    'Subscription': ['expensive', 'price', 'cost', 'pay', 'subscription', 'money']\n",
        "}\n",
        "\n",
        "\n",
        "neg_cat  = []\n",
        "\n",
        "for text in negative_review:\n",
        "  lower_neg = str(text).lower()\n",
        "\n",
        "  for category, keywords in negative_map.items():\n",
        "    for keyword in keywords:\n",
        "      if keyword in lower_neg:\n",
        "        neg_cat.append(category)\n",
        "\n",
        "  else:\n",
        "    neg_cat.append('Truly Negative')\n"
      ],
      "metadata": {
        "id": "Su6BkAzmlz3a"
      },
      "execution_count": 45,
      "outputs": []
    },
    {
      "cell_type": "code",
      "source": [
        "#Counting negative categories\n",
        "\n",
        "neg_category = Counter(neg_cat)\n",
        "neg_category"
      ],
      "metadata": {
        "colab": {
          "base_uri": "https://localhost:8080/"
        },
        "id": "AY8XUAKrmnuD",
        "outputId": "60e894be-9a3c-4dd1-9c82-73d48198b7e2"
      },
      "execution_count": 49,
      "outputs": [
        {
          "output_type": "execute_result",
          "data": {
            "text/plain": [
              "Counter({'Accuracy': 1550,\n",
              "         'Subscription': 319,\n",
              "         'Truly Negative': 6106,\n",
              "         'Performance': 616,\n",
              "         'Features': 678,\n",
              "         'User Experience': 216})"
            ]
          },
          "metadata": {},
          "execution_count": 49
        }
      ]
    },
    {
      "cell_type": "code",
      "source": [
        "plt.bar(neg_category.keys(), neg_category.values())\n",
        "plt.xlabel('Category')\n",
        "plt.ylabel('Count')\n",
        "plt.xticks(rotation=45)\n",
        "plt.show()"
      ],
      "metadata": {
        "colab": {
          "base_uri": "https://localhost:8080/",
          "height": 525
        },
        "id": "47Zc9ILVmrHb",
        "outputId": "82c5be89-2d84-44c5-87b7-13618baa2c8d"
      },
      "execution_count": 53,
      "outputs": [
        {
          "output_type": "display_data",
          "data": {
            "text/plain": [
              "<Figure size 640x480 with 1 Axes>"
            ],
            "image/png": "[encoded data removed]"
          },
          "metadata": {}
        }
      ]
    },
    {
      "cell_type": "markdown",
      "source": [
        "Thank you.\n"
      ],
      "metadata": {
        "id": "V0GeUPuJnRIr"
      }
    },
    {
      "cell_type": "code",
      "source": [],
      "metadata": {
        "id": "HOZzrUS0nXsR"
      },
      "execution_count": null,
      "outputs": []
    }
  ]
}